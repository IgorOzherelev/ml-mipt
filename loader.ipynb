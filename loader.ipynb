{
  "nbformat": 4,
  "nbformat_minor": 0,
  "metadata": {
    "colab": {
      "provenance": [],
      "authorship_tag": "ABX9TyPRn4xGTlIJn6JbH7IoyNW9",
      "include_colab_link": true
    },
    "kernelspec": {
      "name": "python3",
      "display_name": "Python 3"
    },
    "language_info": {
      "name": "python"
    }
  },
  "cells": [
    {
      "cell_type": "markdown",
      "metadata": {
        "id": "view-in-github",
        "colab_type": "text"
      },
      "source": [
        "<a href=\"https://colab.research.google.com/github/IgorOzherelev/ml-mipt/blob/master/loader.ipynb\" target=\"_parent\"><img src=\"https://colab.research.google.com/assets/colab-badge.svg\" alt=\"Open In Colab\"/></a>"
      ]
    },
    {
      "cell_type": "code",
      "execution_count": null,
      "metadata": {
        "id": "fG9QvRnhb2Bf"
      },
      "outputs": [],
      "source": [
        "import requests\n",
        "\n",
        "class UrlLoader():\n",
        "\n",
        "  def load(self, url: str) -> requests.Response:\n",
        "    if not url:\n",
        "      return\n",
        "\n",
        "    session = requests.Session()\n",
        "\n",
        "    return session.get(url)"
      ]
    },
    {
      "cell_type": "code",
      "source": [
        "import sys\n",
        "\n",
        "class FileDrainer():\n",
        "\n",
        "  def drain(self, path: str, obj):\n",
        "    with open(path, 'wb') as file:\n",
        "      file.write(obj)"
      ],
      "metadata": {
        "id": "osvI9nsSedmx"
      },
      "execution_count": null,
      "outputs": []
    },
    {
      "cell_type": "code",
      "source": [
        "drainer = FileDrainer()\n",
        "loader = UrlLoader()\n",
        "\n",
        "urls = [\n",
        "    'https://download.jetbrains.com/idea/ideaIU-2024.3.1.1.exe',\n",
        "    'https://download.jetbrains.com/cpp/CLion-2024.3.1.1.exe'\n",
        "]\n",
        "\n",
        "for url in urls:\n",
        "  name = url.rsplit('/')[-1]\n",
        "  path = '/home/' + name\n",
        "  response = loader.load(url)\n",
        "  drainer.drain(path, response.content)\n"
      ],
      "metadata": {
        "id": "_nhGBdsmeHeX"
      },
      "execution_count": null,
      "outputs": []
    },
    {
      "cell_type": "code",
      "source": [
        "from google.colab import drive\n",
        "\n",
        "drive.mount('/content/gdrive')"
      ],
      "metadata": {
        "colab": {
          "base_uri": "https://localhost:8080/"
        },
        "id": "EzBCfEPihJEX",
        "outputId": "c2e743fe-a633-432f-a88d-28e537650718"
      },
      "execution_count": null,
      "outputs": [
        {
          "output_type": "stream",
          "name": "stdout",
          "text": [
            "Drive already mounted at /content/gdrive; to attempt to forcibly remount, call drive.mount(\"/content/gdrive\", force_remount=True).\n"
          ]
        }
      ]
    },
    {
      "cell_type": "code",
      "source": [
        "!cp '/home/ideaIU-2024.3.1.1.exe' /content/gdrive/MyDrive/ideaIU-2024.3.1.1.exe"
      ],
      "metadata": {
        "id": "flOyXy61idq1",
        "colab": {
          "base_uri": "https://localhost:8080/"
        },
        "outputId": "e0c9d0f8-6fa5-48d3-c948-7bac93a2d7d7"
      },
      "execution_count": null,
      "outputs": [
        {
          "output_type": "stream",
          "name": "stdout",
          "text": [
            "^C\n"
          ]
        }
      ]
    },
    {
      "cell_type": "code",
      "source": [],
      "metadata": {
        "id": "iP05wQU-r-ln"
      },
      "execution_count": null,
      "outputs": []
    }
  ]
}